{
  "cells": [
    {
      "cell_type": "code",
      "execution_count": null,
      "metadata": {
        "colab": {
          "base_uri": "https://localhost:8080/"
        },
        "id": "EjIUglbur9-N",
        "outputId": "f5b6785d-4167-4985-f88b-415cb4a664eb"
      },
      "outputs": [
        {
          "name": "stdout",
          "output_type": "stream",
          "text": [
            "Requirement already satisfied: keras==2.15.0 in /usr/local/lib/python3.10/dist-packages (2.15.0)\n",
            "Requirement already satisfied: pandas==1.5.3 in /usr/local/lib/python3.10/dist-packages (1.5.3)\n",
            "Requirement already satisfied: python-dateutil>=2.8.1 in /usr/local/lib/python3.10/dist-packages (from pandas==1.5.3) (2.8.2)\n",
            "Requirement already satisfied: pytz>=2020.1 in /usr/local/lib/python3.10/dist-packages (from pandas==1.5.3) (2023.4)\n",
            "Requirement already satisfied: numpy>=1.21.0 in /usr/local/lib/python3.10/dist-packages (from pandas==1.5.3) (1.25.2)\n",
            "Requirement already satisfied: six>=1.5 in /usr/local/lib/python3.10/dist-packages (from python-dateutil>=2.8.1->pandas==1.5.3) (1.16.0)\n"
          ]
        }
      ],
      "source": [
        "!pip install keras==2.15.0"
      ]
    },
    {
      "cell_type": "code",
      "source": [
        "!pip install pandas==1.5.3"
      ],
      "metadata": {
        "id": "JfeU2E7JAM8a"
      },
      "execution_count": null,
      "outputs": []
    },
    {
      "cell_type": "code",
      "execution_count": null,
      "metadata": {
        "colab": {
          "base_uri": "https://localhost:8080/"
        },
        "id": "0Kukle88rTnu",
        "outputId": "97041ac6-d6b1-49f5-ba40-227d796ca405"
      },
      "outputs": [
        {
          "name": "stdout",
          "output_type": "stream",
          "text": [
            "Requirement already satisfied: gensim in /usr/local/lib/python3.10/dist-packages (4.3.2)\n",
            "Requirement already satisfied: numpy>=1.18.5 in /usr/local/lib/python3.10/dist-packages (from gensim) (1.25.2)\n",
            "Requirement already satisfied: scipy>=1.7.0 in /usr/local/lib/python3.10/dist-packages (from gensim) (1.11.4)\n",
            "Requirement already satisfied: smart-open>=1.8.1 in /usr/local/lib/python3.10/dist-packages (from gensim) (6.4.0)\n"
          ]
        }
      ],
      "source": [
        "!pip install gensim --upgrade"
      ]
    },
    {
      "cell_type": "code",
      "execution_count": 47,
      "metadata": {
        "id": "_dGnSuaqsxJo"
      },
      "outputs": [],
      "source": [
        "# Imports various modules and classes from scikit-learn for tasks like splitting datasets, encoding labels.\n",
        "# Computing confusion matrices and classification reports, and extracting TF-IDF features.\n",
        "from sklearn.model_selection import train_test_split\n",
        "from sklearn.preprocessing import LabelEncoder\n",
        "from sklearn.metrics import confusion_matrix, classification_report, accuracy_score\n",
        "from sklearn.manifold import TSNE\n",
        "from sklearn.feature_extraction.text import TfidfVectorizer"
      ]
    },
    {
      "cell_type": "code",
      "source": [
        "# imports various modules and classes from Keras, including components for text preprocessing,\n",
        "# model building (sequential and functional APIs),layers (such as dense, convolutional, LSTM),\n",
        "# utilities, and callbacks for training optimization like reducing learning rate and early stopping.\n",
        "from keras.preprocessing.text import Tokenizer\n",
        "from keras.preprocessing.sequence import pad_sequences\n",
        "from keras.models import Sequential\n",
        "from keras.layers import Activation, Dense, Dropout, Embedding, Flatten, Conv1D, MaxPooling1D, LSTM\n",
        "from keras import utils\n",
        "from keras.callbacks import ReduceLROnPlateau, EarlyStopping\n"
      ],
      "metadata": {
        "id": "z3v9Qes6xbbt"
      },
      "execution_count": 48,
      "outputs": []
    },
    {
      "cell_type": "code",
      "source": [
        "# imports utility modules and functions such as regular expression operations.\n",
        "# numpy for numerical computations, operating system functions, counter for counting occurrences.\n",
        "# logging for logging messages, time for time-related functions, pickle for object serialization.\n",
        "# and itertools for iterating over combinations.\n",
        "import re\n",
        "import numpy as np\n",
        "import os\n",
        "from collections import Counter\n",
        "import logging\n",
        "import time\n",
        "import pickle\n",
        "import itertools"
      ],
      "metadata": {
        "id": "6gWyLMroxiDu"
      },
      "execution_count": 50,
      "outputs": []
    },
    {
      "cell_type": "code",
      "source": [
        "# sets up logging configuration to format log messages with timestamp.\n",
        "# log level, and message content, and sets the logging level to INFO.\n",
        "logging.basicConfig(format='%(asctime)s : %(levelname)s : %(message)s', level=logging.INFO)"
      ],
      "metadata": {
        "id": "GUjCve8cxl9Y"
      },
      "execution_count": 51,
      "outputs": []
    },
    {
      "cell_type": "code",
      "execution_count": 52,
      "metadata": {
        "colab": {
          "base_uri": "https://localhost:8080/"
        },
        "id": "YNMT7c4jtYDK",
        "outputId": "c88e3350-e9bc-482e-9aa5-e646f0f1daa7"
      },
      "outputs": [
        {
          "output_type": "stream",
          "name": "stderr",
          "text": [
            "[nltk_data] Downloading package stopwords to /root/nltk_data...\n",
            "[nltk_data]   Package stopwords is already up-to-date!\n"
          ]
        },
        {
          "output_type": "execute_result",
          "data": {
            "text/plain": [
              "True"
            ]
          },
          "metadata": {},
          "execution_count": 52
        }
      ],
      "source": [
        "# imports NLTK and snowballstemmer, to download stopwords and also for word stemming\n",
        "import nltk\n",
        "from nltk.corpus import stopwords\n",
        "from  nltk.stem import SnowballStemmer\n",
        "nltk.download('stopwords')"
      ]
    },
    {
      "cell_type": "code",
      "execution_count": 53,
      "metadata": {
        "id": "bosWGl9ltdis"
      },
      "outputs": [],
      "source": [
        "# defines the column names and encoding the dataset\n",
        "data_column = [\"target\", \"ids\", \"date\", \"flag\", \"user\", \"text\"]\n",
        "data_encode = \"ISO-8859-1\""
      ]
    },
    {
      "cell_type": "code",
      "source": [
        "# defining the filenames for exporting trained models and tokenizer/encoder objects, with the Keras model\n",
        "keras = \"model.h5\"\n",
        "W2V_model = \"model.w2v\"\n",
        "token_model = \"tokenizer.pkl\"\n",
        "encode_model = \"encoder.pkl\""
      ],
      "metadata": {
        "id": "nxfq9QFxx2lR"
      },
      "execution_count": 54,
      "outputs": []
    },
    {
      "cell_type": "code",
      "execution_count": 55,
      "metadata": {
        "id": "2PdWPwSRt03l"
      },
      "outputs": [],
      "source": [
        "# importing the pandas library, reads the CSV file, assigning column name\n",
        "import pandas as pd\n",
        "datapath = \"/content/training.1600000.processed.noemoticon.csv\"\n",
        "df = pd.read_csv(datapath, encoding=data_encode, names=data_column)"
      ]
    },
    {
      "cell_type": "code",
      "execution_count": 56,
      "metadata": {
        "id": "Z-I4MFSWuatL"
      },
      "outputs": [],
      "source": [
        "# defining constants for the sentiment labels and decoding the sentiment labels of the input data\n",
        "positive_sentiment = \"POSITIVE\"\n",
        "negative_sentiment = \"NEGATIVE\"\n",
        "neutral_sentiment = \"NEUTRAL\"\n",
        "sentiment_threshold = (0.4, 0.7)\n",
        "decode_map = {0: \"NEGATIVE\", 2: \"NEUTRAL\", 4: \"POSITIVE\"}\n",
        "def decode_sentiment(label):\n",
        "    return decode_map[int(label)]"
      ]
    },
    {
      "cell_type": "code",
      "execution_count": 57,
      "metadata": {
        "id": "S-GXrMmFufvH"
      },
      "outputs": [],
      "source": [
        "# applying the decode sentiment function\n",
        "df.target = df.target.apply(lambda x: decode_sentiment(x))"
      ]
    },
    {
      "cell_type": "code",
      "execution_count": 58,
      "metadata": {
        "id": "Bh02nxgv945m",
        "colab": {
          "base_uri": "https://localhost:8080/",
          "height": 408
        },
        "outputId": "fb75f398-9d26-4bd6-ecf5-a02e08cf1d32"
      },
      "outputs": [
        {
          "output_type": "stream",
          "name": "stdout",
          "text": [
            "Dataset size: 1600000\n"
          ]
        },
        {
          "output_type": "display_data",
          "data": {
            "text/plain": [
              "<Figure size 800x400 with 1 Axes>"
            ],
            "image/png": "[encoded data removed]"
          },
          "metadata": {}
        }
      ],
      "source": [
        "# imports Matplot library, plotting a bar graph for the visualisation of dataset labels distribution.\n",
        "import matplotlib.pyplot as plt\n",
        "TARGET_COUNT = Counter(df.target)\n",
        "\n",
        "plt.figure(figsize=(8,4))\n",
        "plt.bar(TARGET_COUNT.keys(), TARGET_COUNT.values())\n",
        "plt.title(\"Dataset labels distribuition\")\n",
        "print(\"Dataset size:\", len(df))"
      ]
    },
    {
      "cell_type": "code",
      "execution_count": 59,
      "metadata": {
        "id": "vCz-1UxE1jmY"
      },
      "outputs": [],
      "source": [
        "# importing the english stopwords and stemming from nltk library and snowballstemmer.\n",
        "STOPWORDS = stopwords.words(\"english\")\n",
        "STEMMING = SnowballStemmer(\"english\")"
      ]
    },
    {
      "cell_type": "code",
      "execution_count": 60,
      "metadata": {
        "id": "VbsNedfw1n2s"
      },
      "outputs": [],
      "source": [
        "#  preprocesses text by removing links, usernames, and special characters,\n",
        "#  tokenizing the text, removing stopwords, and optionally applying stemming.\n",
        "def preprocess(text, stem=False):\n",
        "    text_clean = \"@\\S+|https?:\\S+|http?:\\S|[^A-Za-z0-9]+\"\n",
        "    text = re.sub(text_clean, ' ', str(text).lower()).strip()\n",
        "    tokens = []\n",
        "    for token in text.split():\n",
        "        if token not in STOPWORDS:\n",
        "            if stem:\n",
        "                tokens.append(STEMMING.stem(token))\n",
        "            else:\n",
        "                tokens.append(token)\n",
        "    return \" \".join(tokens)"
      ]
    },
    {
      "cell_type": "code",
      "execution_count": 61,
      "metadata": {
        "id": "uFIxbiKM1rL6"
      },
      "outputs": [],
      "source": [
        "# cleanses and preprocesses the data\n",
        "df.text = df.text.apply(lambda x: preprocess(x))"
      ]
    },
    {
      "cell_type": "code",
      "execution_count": 62,
      "metadata": {
        "colab": {
          "base_uri": "https://localhost:8080/"
        },
        "id": "-5-SZkPL1wuh",
        "outputId": "e5c0a479-b7b5-4587-9757-17e7d25cfd6e"
      },
      "outputs": [
        {
          "output_type": "stream",
          "name": "stdout",
          "text": [
            "TRAIN size: 1280000\n",
            "TEST size: 320000\n"
          ]
        }
      ],
      "source": [
        "# splitting the dataframe into train and test\n",
        "train, test = train_test_split(df, test_size=0.2, random_state=42)\n",
        "print(\"TRAIN size:\", len(train))\n",
        "print(\"TEST size:\", len(test))"
      ]
    },
    {
      "cell_type": "code",
      "execution_count": 63,
      "metadata": {
        "id": "xj2GLwBk15C9"
      },
      "outputs": [],
      "source": [
        "# documenting the tokenized words\n",
        "documents = [_text.split() for _text in train.text]"
      ]
    },
    {
      "cell_type": "code",
      "execution_count": 64,
      "metadata": {
        "id": "1bi4OAgE17ry"
      },
      "outputs": [],
      "source": [
        "# initializing the word2vec model\n",
        "import gensim\n",
        "w2v_model = gensim.models.word2vec.Word2Vec(vector_size=300, window=7, min_count=10, workers=8)\n"
      ]
    },
    {
      "cell_type": "code",
      "execution_count": 65,
      "metadata": {
        "id": "SAakbQdl2SA_"
      },
      "outputs": [],
      "source": [
        "# builds word2vec model using the tokenized documents\n",
        "w2v_model.build_vocab(documents)"
      ]
    },
    {
      "cell_type": "code",
      "execution_count": 66,
      "metadata": {
        "id": "-yuWlw_T2WeU"
      },
      "outputs": [],
      "source": [
        "# retrives the words and calculates vocabulary size\n",
        "words = list(w2v_model.wv.key_to_index.keys())\n",
        "Vocab_size = len(words)"
      ]
    },
    {
      "cell_type": "code",
      "execution_count": 67,
      "metadata": {
        "colab": {
          "base_uri": "https://localhost:8080/"
        },
        "id": "urGy9qSc2kZw",
        "outputId": "56808f83-6a7e-4cf8-8847-0613d1bd8fec"
      },
      "outputs": [
        {
          "output_type": "stream",
          "name": "stderr",
          "text": [
            "WARNING:gensim.models.keyedvectors:sorting after vectors have been allocated is expensive & error-prone\n"
          ]
        },
        {
          "output_type": "execute_result",
          "data": {
            "text/plain": [
              "(263122338, 295270528)"
            ]
          },
          "metadata": {},
          "execution_count": 67
        }
      ],
      "source": [
        "# Building the vocabulary\n",
        "w2v_model.build_vocab(documents)\n",
        "\n",
        "# Training the Word2Vec model\n",
        "w2v_model.train(documents, total_examples=len(documents), epochs=32)\n"
      ]
    },
    {
      "cell_type": "code",
      "execution_count": 68,
      "metadata": {
        "id": "X3A-7LrV2tNl"
      },
      "outputs": [],
      "source": [
        "# initializes the tokenizer, fits text data in the training dataset, calculates vocabulary size\n",
        "tokenizer = Tokenizer()\n",
        "tokenizer.fit_on_texts(train.text)\n",
        "\n",
        "Vocab_size = len(tokenizer.word_index) + 1"
      ]
    },
    {
      "cell_type": "code",
      "execution_count": 69,
      "metadata": {
        "id": "mNYLBvr625id"
      },
      "outputs": [],
      "source": [
        "# converts the text data in the training and testing datasets\n",
        "x_train = pad_sequences(tokenizer.texts_to_sequences(train.text), maxlen=300)\n",
        "x_test = pad_sequences(tokenizer.texts_to_sequences(test.text), maxlen=300)"
      ]
    },
    {
      "cell_type": "code",
      "execution_count": 70,
      "metadata": {
        "colab": {
          "base_uri": "https://localhost:8080/"
        },
        "id": "vcuLqBar28V9",
        "outputId": "ee7e622a-5182-4334-d70f-8e57579d10a8"
      },
      "outputs": [
        {
          "output_type": "execute_result",
          "data": {
            "text/plain": [
              "['POSITIVE', 'NEGATIVE', 'NEUTRAL']"
            ]
          },
          "metadata": {},
          "execution_count": 70
        }
      ],
      "source": [
        "# creates a list of unique target labels\n",
        "labels = train.target.unique().tolist()\n",
        "labels.append(neutral_sentiment)\n",
        "labels"
      ]
    },
    {
      "cell_type": "code",
      "execution_count": 71,
      "metadata": {
        "colab": {
          "base_uri": "https://localhost:8080/"
        },
        "id": "-zMoD43z2_NY",
        "outputId": "ff07451b-64e5-499d-ca1f-a91f6bdc8b70"
      },
      "outputs": [
        {
          "output_type": "stream",
          "name": "stdout",
          "text": [
            "y_train (1280000, 1)\n",
            "y_test (320000, 1)\n"
          ]
        }
      ],
      "source": [
        "# encodeing the training and testing labels\n",
        "encoder = LabelEncoder()\n",
        "encoder.fit(train.target.tolist())\n",
        "\n",
        "y_train = encoder.transform(train.target.tolist())\n",
        "y_test = encoder.transform(test.target.tolist())\n",
        "\n",
        "y_train = y_train.reshape(-1,1)\n",
        "y_test = y_test.reshape(-1,1)\n",
        "\n",
        "print(\"x_train\", x_train.shape)\n",
        "print(\"y_train\", y_train.shape)\n",
        "print(\"x_test\", x_test.shape)\n",
        "print(\"y_test\", y_test.shape)"
      ]
    },
    {
      "cell_type": "code",
      "execution_count": 74,
      "metadata": {
        "id": "5xGfRvoo3NCI"
      },
      "outputs": [],
      "source": [
        "# initializes a embedding matrix, then iterates through each word\n",
        "embedding_matrix = np.zeros((Vocab_size, 300))\n",
        "for word, i in tokenizer.word_index.items():\n",
        "  if word in w2v_model.wv:\n",
        "    embedding_matrix[i] = w2v_model.wv[word]"
      ]
    },
    {
      "cell_type": "code",
      "execution_count": 75,
      "metadata": {
        "id": "gsewD6xH3P8k"
      },
      "outputs": [],
      "source": [
        "# defining a embedding layer, initializing the weights\n",
        "embedding_layer = Embedding(Vocab_size, 300, weights=[embedding_matrix], input_length=300, trainable=False)"
      ]
    },
    {
      "cell_type": "code",
      "execution_count": 76,
      "metadata": {
        "colab": {
          "base_uri": "https://localhost:8080/"
        },
        "id": "abhRtFab3YJI",
        "outputId": "74703c90-1c9f-47c9-8c69-8ca369b27b82"
      },
      "outputs": [
        {
          "output_type": "stream",
          "name": "stderr",
          "text": [
            "WARNING:tensorflow:Layer lstm_1 will not use cuDNN kernels since it doesn't meet the criteria. It will use a generic GPU kernel as fallback when running on GPU.\n"
          ]
        },
        {
          "output_type": "stream",
          "name": "stdout",
          "text": [
            "Model: \"sequential_1\"\n",
            "_________________________________________________________________\n",
            " Layer (type)                Output Shape              Param #   \n",
            "=================================================================\n",
            " embedding_1 (Embedding)     (None, 300, 300)          87125700  \n",
            "                                                                 \n",
            " dropout_1 (Dropout)         (None, 300, 300)          0         \n",
            "                                                                 \n",
            " lstm_1 (LSTM)               (None, 100)               160400    \n",
            "                                                                 \n",
            " dense_1 (Dense)             (None, 1)                 101       \n",
            "                                                                 \n",
            "=================================================================\n",
            "Total params: 87286201 (332.97 MB)\n",
            "Trainable params: 160501 (626.96 KB)\n",
            "Non-trainable params: 87125700 (332.36 MB)\n",
            "_________________________________________________________________\n"
          ]
        }
      ],
      "source": [
        "# defining sequential model and adds embedding layer, dropout, lstm and dense layers\n",
        "model = Sequential()\n",
        "model.add(embedding_layer)\n",
        "model.add(Dropout(0.5))\n",
        "model.add(LSTM(100, dropout=0.2, recurrent_dropout=0.2))\n",
        "model.add(Dense(1, activation='sigmoid'))\n",
        "\n",
        "model.summary()"
      ]
    },
    {
      "cell_type": "code",
      "execution_count": 77,
      "metadata": {
        "id": "8pb80YDv3wed"
      },
      "outputs": [],
      "source": [
        "# compiles specifying binary cross entrophy as loss function, adam optimzer and accuracy as evaluation metrics\n",
        "model.compile(loss='binary_crossentropy',\n",
        "              optimizer=\"adam\",\n",
        "              metrics=['accuracy'])"
      ]
    },
    {
      "cell_type": "code",
      "execution_count": 78,
      "metadata": {
        "id": "JnRGdl945jyz"
      },
      "outputs": [],
      "source": [
        "# defining call back function for early stoping\n",
        "callbacks = [\n",
        "    ReduceLROnPlateau(monitor='val_loss', patience=5, cooldown=0),\n",
        "    EarlyStopping(monitor='val_accuracy', min_delta=1e-4, patience=5)\n",
        "]\n"
      ]
    },
    {
      "cell_type": "code",
      "execution_count": 79,
      "metadata": {
        "colab": {
          "base_uri": "https://localhost:8080/"
        },
        "id": "QPW0btTc7Mij",
        "outputId": "9abcfe5e-414a-4758-c07b-64dde59c2e97"
      },
      "outputs": [
        {
          "output_type": "stream",
          "name": "stdout",
          "text": [
            "Epoch 1/20\n",
            "1125/1125 [==============================] - 444s 393ms/step - loss: 0.5028 - accuracy: 0.7507 - val_loss: 0.4665 - val_accuracy: 0.7783 - lr: 0.0010\n",
            "Epoch 2/20\n",
            "1125/1125 [==============================] - 440s 391ms/step - loss: 0.4786 - accuracy: 0.7671 - val_loss: 0.4592 - val_accuracy: 0.7834 - lr: 0.0010\n",
            "Epoch 3/20\n",
            "1125/1125 [==============================] - 437s 389ms/step - loss: 0.4717 - accuracy: 0.7720 - val_loss: 0.4538 - val_accuracy: 0.7858 - lr: 0.0010\n",
            "Epoch 4/20\n",
            "1125/1125 [==============================] - 437s 389ms/step - loss: 0.4676 - accuracy: 0.7750 - val_loss: 0.4530 - val_accuracy: 0.7872 - lr: 0.0010\n",
            "Epoch 5/20\n",
            "1125/1125 [==============================] - 441s 392ms/step - loss: 0.4653 - accuracy: 0.7761 - val_loss: 0.4497 - val_accuracy: 0.7895 - lr: 0.0010\n",
            "Epoch 6/20\n",
            "1125/1125 [==============================] - 443s 394ms/step - loss: 0.4635 - accuracy: 0.7773 - val_loss: 0.4488 - val_accuracy: 0.7901 - lr: 0.0010\n",
            "Epoch 7/20\n",
            "1125/1125 [==============================] - 443s 394ms/step - loss: 0.4621 - accuracy: 0.7782 - val_loss: 0.4476 - val_accuracy: 0.7903 - lr: 0.0010\n",
            "Epoch 8/20\n",
            "1125/1125 [==============================] - 437s 389ms/step - loss: 0.4617 - accuracy: 0.7779 - val_loss: 0.4494 - val_accuracy: 0.7905 - lr: 0.0010\n",
            "Epoch 9/20\n",
            "1125/1125 [==============================] - 436s 387ms/step - loss: 0.4607 - accuracy: 0.7788 - val_loss: 0.4471 - val_accuracy: 0.7913 - lr: 0.0010\n",
            "Epoch 10/20\n",
            "1125/1125 [==============================] - 436s 388ms/step - loss: 0.4598 - accuracy: 0.7792 - val_loss: 0.4464 - val_accuracy: 0.7913 - lr: 0.0010\n",
            "Epoch 11/20\n",
            "1125/1125 [==============================] - 439s 390ms/step - loss: 0.4590 - accuracy: 0.7799 - val_loss: 0.4468 - val_accuracy: 0.7915 - lr: 0.0010\n",
            "Epoch 12/20\n",
            "1125/1125 [==============================] - 432s 384ms/step - loss: 0.4588 - accuracy: 0.7800 - val_loss: 0.4457 - val_accuracy: 0.7919 - lr: 0.0010\n",
            "Epoch 13/20\n",
            "1125/1125 [==============================] - 429s 382ms/step - loss: 0.4586 - accuracy: 0.7800 - val_loss: 0.4442 - val_accuracy: 0.7926 - lr: 0.0010\n",
            "Epoch 14/20\n",
            "1125/1125 [==============================] - 430s 382ms/step - loss: 0.4577 - accuracy: 0.7809 - val_loss: 0.4451 - val_accuracy: 0.7922 - lr: 0.0010\n",
            "Epoch 15/20\n",
            "1125/1125 [==============================] - 432s 384ms/step - loss: 0.4573 - accuracy: 0.7810 - val_loss: 0.4437 - val_accuracy: 0.7926 - lr: 0.0010\n",
            "Epoch 16/20\n",
            "1125/1125 [==============================] - 433s 385ms/step - loss: 0.4569 - accuracy: 0.7815 - val_loss: 0.4430 - val_accuracy: 0.7927 - lr: 0.0010\n",
            "Epoch 17/20\n",
            "1125/1125 [==============================] - 432s 384ms/step - loss: 0.4571 - accuracy: 0.7812 - val_loss: 0.4431 - val_accuracy: 0.7931 - lr: 0.0010\n",
            "Epoch 18/20\n",
            "1125/1125 [==============================] - 428s 380ms/step - loss: 0.4563 - accuracy: 0.7816 - val_loss: 0.4428 - val_accuracy: 0.7932 - lr: 0.0010\n",
            "Epoch 19/20\n",
            "1125/1125 [==============================] - 428s 381ms/step - loss: 0.4557 - accuracy: 0.7817 - val_loss: 0.4435 - val_accuracy: 0.7929 - lr: 0.0010\n",
            "Epoch 20/20\n",
            "1125/1125 [==============================] - 428s 380ms/step - loss: 0.4556 - accuracy: 0.7820 - val_loss: 0.4449 - val_accuracy: 0.7928 - lr: 0.0010\n"
          ]
        }
      ],
      "source": [
        "# training of the model\n",
        "history = model.fit(x_train, y_train, batch_size=1024, epochs=20, validation_split=0.1, verbose=1, callbacks=callbacks)"
      ]
    },
    {
      "cell_type": "code",
      "execution_count": 80,
      "metadata": {
        "colab": {
          "base_uri": "https://localhost:8080/"
        },
        "id": "dyk4xTcw-IlI",
        "outputId": "bc97b134-87da-4e5e-80f7-443c53e79069"
      },
      "outputs": [
        {
          "output_type": "stream",
          "name": "stdout",
          "text": [
            "313/313 [==============================] - 33s 105ms/step - loss: 0.4436 - accuracy: 0.7930\n",
            "\n",
            "Accuracy: 0.7930031418800354\n",
            "Loss: 0.4436311423778534\n"
          ]
        }
      ],
      "source": [
        "# evaluaTION OF the trained model using test data\n",
        "score = model.evaluate(x_test, y_test, batch_size=1024)\n",
        "print()\n",
        "print(\"Accuracy:\",score[1])\n",
        "print(\"Loss:\",score[0])"
      ]
    },
    {
      "cell_type": "code",
      "execution_count": 81,
      "metadata": {
        "colab": {
          "base_uri": "https://localhost:8080/",
          "height": 887
        },
        "id": "emmfCqcF-N85",
        "outputId": "fa0a1c32-10a2-464d-881f-04f1f1371fc9"
      },
      "outputs": [
        {
          "output_type": "display_data",
          "data": {
            "text/plain": [
              "<Figure size 640x480 with 1 Axes>"
            ],
            "image/png": "[encoded data removed]"
          },
          "metadata": {}
        },
        {
          "output_type": "display_data",
          "data": {
            "text/plain": [
              "<Figure size 640x480 with 1 Axes>"
            ],
            "image/png": "[encoded data removed]"
          },
          "metadata": {}
        }
      ],
      "source": [
        "# visualisation of training and validation accuracy and training and validation loss\n",
        "accuracy = history.history['accuracy']\n",
        "validation_accuracy = history.history['val_accuracy']\n",
        "loss = history.history['loss']\n",
        "validation_loss = history.history['val_loss']\n",
        "\n",
        "\n",
        "epochs = range(len(accuracy))\n",
        "\n",
        "plt.plot(Epochs, accuracy, 'b', label='Training acc')\n",
        "plt.plot(Epochs, validation_accuracy, 'r', label='Validation acc')\n",
        "plt.title('Training and validation accuracy')\n",
        "plt.legend()\n",
        "\n",
        "plt.figure()\n",
        "\n",
        "plt.plot(Epochs, loss, 'b', label='Training loss')\n",
        "plt.plot(Epochs, validation_loss, 'r', label='Validation loss')\n",
        "plt.title('Training and validation loss')\n",
        "plt.legend()\n",
        "\n",
        "plt.show()"
      ]
    },
    {
      "cell_type": "code",
      "execution_count": 82,
      "metadata": {
        "id": "DgDYcqgO_000"
      },
      "outputs": [],
      "source": [
        "# mapping of sentiment scores to sentiment labels using decode sentiment function\n",
        "def decode_sentiment(score, include_neutral=True):\n",
        "    if include_neutral:\n",
        "        label = neutral_sentiment\n",
        "        if score <= sentiment_threshold[0]:\n",
        "            label = negative_sentiment\n",
        "        elif score >= sentiment_threshold[1]:\n",
        "            label = positive_sentiment\n",
        "\n",
        "        return label\n",
        "    else:\n",
        "        return negative_sentiment if score < 0.5 else positive_sentiment"
      ]
    },
    {
      "cell_type": "code",
      "execution_count": 83,
      "metadata": {
        "colab": {
          "base_uri": "https://localhost:8080/"
        },
        "id": "PlzPEOToR2tL",
        "outputId": "9f3687a6-ae3b-417a-fd25-ed04753f70de"
      },
      "outputs": [
        {
          "output_type": "stream",
          "name": "stdout",
          "text": [
            "Enter your text: i am happy\n",
            "1/1 [==============================] - 0s 272ms/step\n",
            "Predicted Label: POSITIVE\n",
            "Predicted Score: 8\n",
            "Predicted Polarity: Positive\n"
          ]
        }
      ],
      "source": [
        "# Predict function to predict the sentiment label\n",
        "def predict(text):\n",
        "    start_at = time.time()\n",
        "    x_test = pad_sequences(tokenizer.texts_to_sequences([text]), maxlen=300)\n",
        "    score = model.predict([x_test])[0][0]  # to extract a single element\n",
        "    # Mapping the score to the range of 0 to 10\n",
        "    mapped_score = int(score * 10)\n",
        "    # Decoding the sentiment\n",
        "    if mapped_score <= 3:\n",
        "        label = \"HIGHLY NEGATIVE\"\n",
        "        polarity = \"Highly Negative\"\n",
        "    elif mapped_score <= 5:\n",
        "        label = \"NEGATIVE\"\n",
        "        polarity = \"Negative\"\n",
        "    elif mapped_score == 6:\n",
        "        label = \"NEUTRAL\"\n",
        "        polarity = \"Neutral\"\n",
        "    elif mapped_score <= 8:\n",
        "        label = \"POSITIVE\"\n",
        "        polarity = \"Positive\"\n",
        "    else:\n",
        "        label = \"HIGHLY POSITIVE\"\n",
        "        polarity = \"Highly Positive\"\n",
        "\n",
        "    return {\"label\": label, \"score\": mapped_score, \"polarity\": polarity}\n",
        "\n",
        "# inputing the text from user for prediction of the desired text\n",
        "user_input = input(\"Enter your text: \")\n",
        "prediction = predict(user_input)\n",
        "print(\"Predicted Label:\", prediction[\"label\"])\n",
        "print(\"Predicted Score:\", prediction[\"score\"])\n",
        "print(\"Predicted Polarity:\", prediction[\"polarity\"])\n"
      ]
    },
    {
      "cell_type": "code",
      "execution_count": 84,
      "metadata": {
        "colab": {
          "base_uri": "https://localhost:8080/"
        },
        "id": "1JzaYeAEBAuc",
        "outputId": "f7ab65bf-4cf5-4636-a390-feca260716c9"
      },
      "outputs": [
        {
          "output_type": "stream",
          "name": "stdout",
          "text": [
            "40/40 [==============================] - 22s 551ms/step\n"
          ]
        }
      ],
      "source": [
        "# predicts for the testing data, decodes sentiment scores into sentiment labels\n",
        "y_pred_1d = []\n",
        "y_test_1d = list(test.target)\n",
        "scores = model.predict(x_test, verbose=1, batch_size=8000)\n",
        "y_pred_1d = [decode_sentiment(score, include_neutral=False) for score in scores]"
      ]
    },
    {
      "cell_type": "code",
      "execution_count": 85,
      "metadata": {
        "id": "7sPRWrUaBJYP"
      },
      "outputs": [],
      "source": [
        "# plotting a confusion matrix\n",
        "def plot_confusion_matrix(cm, classes,\n",
        "                          title='Confusion matrix',\n",
        "                          cmap=plt.cm.Blues):\n",
        "\n",
        "    cm = cm.astype('float') / cm.sum(axis=1)[:, np.newaxis]\n",
        "\n",
        "    plt.imshow(cm, interpolation='nearest', cmap=cmap)\n",
        "    plt.title(title, fontsize=30)\n",
        "    plt.colorbar()\n",
        "    tick_marks = np.arange(len(classes))\n",
        "    plt.xticks(tick_marks, classes, rotation=90, fontsize=22)\n",
        "    plt.yticks(tick_marks, classes, fontsize=22)\n",
        "\n",
        "    fmt = '.2f'\n",
        "    thresh = cm.max() / 2.\n",
        "    for i, j in itertools.product(range(cm.shape[0]), range(cm.shape[1])):\n",
        "        plt.text( j, i, format(cm[i, j], fmt),\n",
        "                 horizontalalignment=\"center\",\n",
        "                 color=\"white\" if cm[i, j] > thresh else \"black\" )\n",
        "\n",
        "    plt.ylabel('True label', fontsize=25)\n",
        "    plt.xlabel('Predicted label', fontsize=25)"
      ]
    },
    {
      "cell_type": "code",
      "execution_count": 86,
      "metadata": {
        "colab": {
          "base_uri": "https://localhost:8080/",
          "height": 1000
        },
        "id": "O9w0MQsPBZrl",
        "outputId": "f177743b-9602-4836-b207-7917904dfe8e"
      },
      "outputs": [
        {
          "output_type": "display_data",
          "data": {
            "text/plain": [
              "<Figure size 1200x1200 with 2 Axes>"
            ],
            "image/png": "[encoded data removed]"
          },
          "metadata": {}
        }
      ],
      "source": [
        "# computes confusion matrix using true klabels and predicted labels\n",
        "cnf_matrix = confusion_matrix(y_test_1d, y_pred_1d)\n",
        "plt.figure(figsize=(12,12))\n",
        "plot_confusion_matrix(cnf_matrix, classes=train.target.unique(), title=\"Confusion matrix\")\n",
        "plt.show()"
      ]
    },
    {
      "cell_type": "code",
      "execution_count": 87,
      "metadata": {
        "colab": {
          "base_uri": "https://localhost:8080/"
        },
        "id": "FCAbj14tBdm9",
        "outputId": "2cba853a-18fa-42fb-f618-6eab9ed72928"
      },
      "outputs": [
        {
          "output_type": "execute_result",
          "data": {
            "text/plain": [
              "0.793003125"
            ]
          },
          "metadata": {},
          "execution_count": 87
        }
      ],
      "source": [
        "# calculating the accuracy by comparing thwe true labels and the predicted labels\n",
        "accuracy_score(y_test_1d, y_pred_1d)"
      ]
    },
    {
      "cell_type": "code",
      "execution_count": 88,
      "metadata": {
        "colab": {
          "base_uri": "https://localhost:8080/"
        },
        "id": "2DiDFc4zz9NQ",
        "outputId": "64c0cdbd-ae39-4bde-f223-2ccf8f5565b8"
      },
      "outputs": [
        {
          "output_type": "stream",
          "name": "stdout",
          "text": [
            "Classification Report:\n",
            "              precision    recall  f1-score   support\n",
            "\n",
            "    POSITIVE       0.79      0.79      0.79    159494\n",
            "    NEGATIVE       0.79      0.79      0.79    160506\n",
            "\n",
            "    accuracy                           0.79    320000\n",
            "   macro avg       0.79      0.79      0.79    320000\n",
            "weighted avg       0.79      0.79      0.79    320000\n",
            "\n"
          ]
        }
      ],
      "source": [
        "# computing the classification report\n",
        "from sklearn.metrics import classification_report\n",
        "\n",
        "y_true = test.target.tolist()\n",
        "y_true = [str(label) for label in y_true]\n",
        "y_pred = [decode_sentiment(score, include_neutral=False) for score in scores]\n",
        "\n",
        "# Compute classification report\n",
        "report = classification_report(y_true, y_pred, target_names=train.target.unique())\n",
        "\n",
        "# Print the classification report\n",
        "print(\"Classification Report:\")\n",
        "print(report)\n"
      ]
    },
    {
      "cell_type": "code",
      "source": [
        "model.save(keras)\n",
        "w2v_model.save(W2V_model)\n",
        "pickle.dump(tokenizer, open(token_model, \"wb\"), protocol=0)\n",
        "pickle.dump(encoder, open(encode_model, \"wb\"), protocol=0)"
      ],
      "metadata": {
        "colab": {
          "base_uri": "https://localhost:8080/"
        },
        "id": "sg51bLL_FQok",
        "outputId": "940ab468-375a-4a14-a009-916f761ff094"
      },
      "execution_count": 89,
      "outputs": [
        {
          "output_type": "stream",
          "name": "stderr",
          "text": [
            "/usr/local/lib/python3.10/dist-packages/keras/src/engine/training.py:3103: UserWarning: You are saving your model as an HDF5 file via `model.save()`. This file format is considered legacy. We recommend using instead the native Keras format, e.g. `model.save('my_model.keras')`.\n",
            "  saving_api.save_model(\n"
          ]
        }
      ]
    }
  ],
  "metadata": {
    "colab": {
      "provenance": [],
      "gpuType": "T4",
      "machine_shape": "hm"
    },
    "kernelspec": {
      "display_name": "Python 3",
      "name": "python3"
    },
    "language_info": {
      "name": "python"
    },
    "accelerator": "GPU"
  },
  "nbformat": 4,
  "nbformat_minor": 0
}